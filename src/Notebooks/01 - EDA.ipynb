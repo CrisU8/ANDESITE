version https://git-lfs.github.com/spec/v1
oid sha256:70ecafb4b3eff8b43a210e3e0f6194702f4c058f38d44785bc8185be7fd9aef0
size 166675211
