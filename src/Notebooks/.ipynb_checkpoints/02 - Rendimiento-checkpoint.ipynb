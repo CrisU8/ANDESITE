version https://git-lfs.github.com/spec/v1
oid sha256:f981106247ea1ce3e22bd64b89f20fa034ed0e3d425ed5d170eaea25e4d0bcff
size 13091182
